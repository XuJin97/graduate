{
 "cells": [
  {
   "cell_type": "code",
   "execution_count": 1,
   "metadata": {},
   "outputs": [],
   "source": [
    "import numpy as np\n",
    "import matplotlib.pyplot as plt\n",
    "import random\n",
    "np.random.seed(123)\n",
    "random.seed(123)\n",
    "H = 30\n",
    "n = 600\n",
    "sim = 1000"
   ]
  },
  {
   "cell_type": "code",
   "execution_count": 2,
   "metadata": {},
   "outputs": [
    {
     "data": {
      "image/png": "[encoded data removed]",
      "text/plain": [
       "<Figure size 432x288 with 1 Axes>"
      ]
     },
     "metadata": {
      "needs_background": "light"
     },
     "output_type": "display_data"
    },
    {
     "data": {
      "image/png": "[encoded data removed]",
      "text/plain": [
       "<Figure size 432x288 with 1 Axes>"
      ]
     },
     "metadata": {
      "needs_background": "light"
     },
     "output_type": "display_data"
    },
    {
     "data": {
      "image/png": "[encoded data removed]",
      "text/plain": [
       "<Figure size 432x288 with 1 Axes>"
      ]
     },
     "metadata": {
      "needs_background": "light"
     },
     "output_type": "display_data"
    }
   ],
   "source": [
    "a_hs = np.random.uniform(low = 1, high = 10, size = H) #a_h~uniform(1,10)\n",
    "N_hs = np.random.poisson(lam = 10 * a_hs) + 50 #生成每层的总体数\n",
    "N = sum(N_hs)\n",
    "max_N_h = max(N_hs) #最大层的总体数\n",
    "Y = np.zeros([H, max_N_h])\n",
    "for h in range(H):\n",
    "    Y_h = 3 * a_hs[h] + np.random.normal(0, a_hs[h], size = N_hs[h])\n",
    "    Y[h, :N_hs[h]] = Y_h \n",
    "\n",
    "S2_hs = []\n",
    "for h in range(H):\n",
    "    Y_h_nonzero = Y[h][:N_hs[h]] #因为前面定义Y的数组时，不够长的地方用0占了，筛选出非零数据用于计算方差\n",
    "    S2_hs.append(np.var(Y_h_nonzero, ddof = 1))\n",
    "S2_hs = np.array(S2_hs)\n",
    "S_hs = np.sqrt(S2_hs)\n",
    "\n",
    "#to make sum(n_h)==n\n",
    "def adjust_n_hs(n_hs, n, according):\n",
    "    rev_sorted_id = np.argsort(-according) #逆序排列返回索引值\n",
    "    sorted_id = np.argsort(according) #正序排列返回索引值\n",
    "    insert = 0 #insert表示插值次数\n",
    "    while sum(n_hs) < n: #if 抽中的样本总数<n\n",
    "        n_hs[rev_sorted_id[insert]] += 1\n",
    "        insert += 1\n",
    "    while sum(n_hs) > n: #if 抽中的样本总数>n\n",
    "        n_hs[sorted_id[insert]] -= 1\n",
    "        insert += 1\n",
    "    return n_hs\n",
    "\n",
    "#simple random sampling without replacement\n",
    "def srs(n, N, y):\n",
    "    srs_sample_index = np.random.choice(N, n, replace = False)\n",
    "    srs_sample = y[srs_sample_index]\n",
    "    srs_HT = np.mean(srs_sample)\n",
    "    var_srs_HT = 1/n * (1-n/N) * np.var(srs_sample, ddof=1) #estimated variance of HT estimator\n",
    "    return {'sample': srs_sample,\n",
    "            'estimator': srs_HT, \n",
    "            'estimated variance': var_srs_HT}\n",
    "\n",
    "#stratified simple random sampling without replacement\n",
    "def stratified_srs(n_hs, N_hs, Y):\n",
    "    N = sum(N_hs)\n",
    "    H = len(N_hs)\n",
    "    sample = []\n",
    "    estimators = []\n",
    "    est_variances = []  \n",
    "    for h in range(H):\n",
    "        sample.extend(list(srs(int(n_hs[h]), int(N_hs[h]), Y[h])['sample']))\n",
    "        estimators.append(srs(int(n_hs[h]), int(N_hs[h]), Y[h])['estimator'])\n",
    "        est_variances.append(srs(int(n_hs[h]), int(N_hs[h]), Y[h])['estimated variance'])\n",
    "    estimators = np.array(estimators)\n",
    "    est_variances = np.array(est_variances)\n",
    "    return {'samples': sample,\n",
    "            'estimators': estimators,\n",
    "            'estimated variances': est_variances,\n",
    "            'stratified estimator': sum(N_hs/N * estimators),\n",
    "            'stratified variance': sum(N_hs**2 / N**2 * est_variances)}\n",
    "\n",
    "#first scenario: 比例分配\n",
    "k = n/N\n",
    "n_hs = np.round(k * N_hs, 0) #比例分配是比例为n/N\n",
    "n_hs = adjust_n_hs(n_hs, n, according = N_hs)\n",
    "\n",
    "#second scenario: neyman分配\n",
    "k2 = n / sum(N_hs * S_hs) #neyman分配的比例\n",
    "n_hs2 = np.round(k2 * N_hs * S_hs, 0) #neyman分配\n",
    "n_hs2 = adjust_n_hs(n_hs2, n, according = N_hs * S_hs)\n",
    "\n",
    "#third scenario: 简单随机抽样\n",
    "Y_onedim = Y.flatten()\n",
    "Y_onedim = Y_onedim[Y_onedim != 0]\n",
    "mu = np.mean(Y_onedim)\n",
    "\n",
    "ESTs = np.zeros([sim, 3])\n",
    "Variances = np.zeros([sim, 3])\n",
    "for i in range(sim):\n",
    "    ESTs[i, 0] = stratified_srs(n_hs, N_hs, Y)['stratified estimator']\n",
    "    Variances[i, 0] = stratified_srs(n_hs, N_hs, Y)['stratified variance']\n",
    "    ESTs[i, 1] = stratified_srs(n_hs2, N_hs, Y)['stratified estimator']\n",
    "    Variances[i, 1] = stratified_srs(n_hs2, N_hs, Y)['stratified variance']\n",
    "    ESTs[i, 2] = srs(n, N, Y_onedim)['estimator']\n",
    "    Variances[i, 2] = srs(n, N, Y_onedim)['estimated variance']\n",
    "\n",
    "for design in range(3):\n",
    "    plt.plot()\n",
    "    plt.hist(ESTs[:,design])\n",
    "    plt.xlim(16.5, 18.5)\n",
    "    plt.axvline(x = mu, linestyle = '--', color = 'r')\n",
    "    plt.xlabel(r'HT estimator of $\\mu$')\n",
    "    plt.ylabel('Frequency')\n",
    "    plt.savefig('mu_design_' + str(design+1) + '.png')\n",
    "    plt.show()\n",
    "    plt.close()\n"
   ]
  },
  {
   "cell_type": "code",
   "execution_count": 6,
   "metadata": {},
   "outputs": [
    {
     "name": "stdout",
     "output_type": "stream",
     "text": [
      "Monte Carlo bias of $\\hat{\\mu}$ is [-0.0045  0.0066 -0.0041]\n",
      "V is [0.0497 0.0426 0.0957]\n",
      "average $\\hat{V}$ is [0.0497 0.0426 0.0958]\n"
     ]
    }
   ],
   "source": [
    "V_stratified_srs1 = 1/N**2 * sum(N_hs**2/n_hs * (1-n_hs/N_hs) * S2_hs)\n",
    "V_stratified_srs2 = 1/N**2 * sum(N_hs**2/n_hs2 * (1-n_hs2/N_hs) * S2_hs)\n",
    "V_srs = 1/n * (1-n/N) * np.var(Y_onedim, ddof = 1)\n",
    "true_V = np.array([V_stratified_srs, V_stratified_srs2, V_srs])\n",
    "print(r'Monte Carlo bias of $\\hat{\\mu}$ is', np.round(ESTs.mean(axis = 0)-mu,4))\n",
    "print('V is', np.round(true_V, 4))\n",
    "print(r'average $\\hat{V}$ is', np.round(Variances.mean(axis = 0), 4))"
   ]
  },
  {
   "cell_type": "code",
   "execution_count": 4,
   "metadata": {},
   "outputs": [
    {
     "data": {
      "image/png": "[encoded data removed]",
      "text/plain": [
       "<Figure size 432x288 with 1 Axes>"
      ]
     },
     "metadata": {
      "needs_background": "light"
     },
     "output_type": "display_data"
    },
    {
     "data": {
      "image/png": "[encoded data removed]",
      "text/plain": [
       "<Figure size 432x288 with 1 Axes>"
      ]
     },
     "metadata": {
      "needs_background": "light"
     },
     "output_type": "display_data"
    },
    {
     "data": {
      "image/png": "[encoded data removed]",
      "text/plain": [
       "<Figure size 432x288 with 1 Axes>"
      ]
     },
     "metadata": {
      "needs_background": "light"
     },
     "output_type": "display_data"
    },
    {
     "name": "stdout",
     "output_type": "stream",
     "text": [
      "Monte Carlo bias of $\\hat{\\Delta \\mu_{12}}$ is [ 0.0446 -0.0034 -0.0172]\n"
     ]
    }
   ],
   "source": [
    "#the optimal allocation of first two sample size\n",
    "n0 = 100\n",
    "N0 = sum(N_hs[:2])\n",
    "\n",
    "#first scenario: 比例分配\n",
    "new_k = n0/N0\n",
    "new_n_hs = np.round(new_k * N_hs[:2], 0) #比例分配是比例为n/N\n",
    "new_n_hs = adjust_n_hs(new_n_hs, n0, according = N_hs[:2])\n",
    "\n",
    "#second scenario: neyman分配\n",
    "new_k2 = n0 / sum(N_hs[:2] * S_hs[:2]) #neyman分配的比例\n",
    "new_n_hs2 = np.round(new_k2 * N_hs[:2] * S_hs[:2], 0) #neyman分配\n",
    "new_n_hs2 = adjust_n_hs(new_n_hs2, n0, according = N_hs[:2] * S_hs[:2])\n",
    "\n",
    "#n_h is propotional to S_h, the propotion is n_0/sum(S_h)\n",
    "k3 = n0 / sum(S_hs[:2])\n",
    "n_hs3 = np.round(k3 * S_hs[:2], 0) #分配\n",
    "n_hs3 = adjust_n_hs(n_hs3, n0, according = S_hs[:2])\n",
    "\n",
    "results = np.zeros([sim, 9])\n",
    "for i in range(sim):\n",
    "    results[i,:2] = stratified_srs(new_n_hs, N_hs[:2], Y[:2])['estimators']\n",
    "    results[i,2:4] = stratified_srs(new_n_hs2, N_hs[:2], Y[:2])['estimators']\n",
    "    results[i,4:6] = stratified_srs(n_hs3, N_hs[:2], Y[:2])['estimators']\n",
    "results[:,6] = results[:,0] - results[:,1]\n",
    "results[:,7] = results[:,2] - results[:,3]\n",
    "results[:,8] = results[:,4] - results[:,5]\n",
    "\n",
    "Y0_delete0 = Y[0][Y[0] != 0]\n",
    "Y1_delete0 = Y[1][Y[1] != 0]\n",
    "true_delta = np.mean(Y0_delete0) - np.mean(Y1_delete0)\n",
    "\n",
    "for design in range(3):\n",
    "    plt.plot()\n",
    "    plt.hist(results[:,design+6])\n",
    "    plt.xlim(6, 17)\n",
    "    plt.axvline(x = true_delta, linestyle = '--', color = 'r')\n",
    "    plt.xlabel(r'HT estimator of $\\Delta \\mu_{12}$')\n",
    "    plt.ylabel('Frequency')\n",
    "    plt.savefig('Delta_design_' + str(design+1) + '.png')\n",
    "    plt.show()\n",
    "    plt.close()\n",
    "print(r'Monte Carlo bias of $\\hat{\\Delta \\mu_{12}}$ is', np.round(results[:,6:9].mean(axis=0)-true_delta,4))"
   ]
  },
  {
   "cell_type": "code",
   "execution_count": 5,
   "metadata": {},
   "outputs": [
    {
     "data": {
      "text/plain": [
       "array([0.55429022, 0.51632572, 0.50199418])"
      ]
     },
     "execution_count": 5,
     "metadata": {},
     "output_type": "execute_result"
    }
   ],
   "source": [
    "def var_delta(n_hs, N_hs, S2_hs):\n",
    "    return sum(1/n_hs * (1-n_hs/N_hs) * S2_hs)\n",
    "var1 = var_delta(new_n_hs, N_hs[:2], S2_hs[:2])\n",
    "var2 = var_delta(new_n_hs2, N_hs[:2], S2_hs[:2])\n",
    "var3 = var_delta(n_hs3, N_hs[:2], S2_hs[:2])\n",
    "np.array([var1, var2, var3])"
   ]
  },
  {
   "cell_type": "code",
   "execution_count": null,
   "metadata": {},
   "outputs": [],
   "source": []
  }
 ],
 "metadata": {
  "kernelspec": {
   "display_name": "Python 3",
   "language": "python",
   "name": "python3"
  },
  "language_info": {
   "codemirror_mode": {
    "name": "ipython",
    "version": 3
   },
   "file_extension": ".py",
   "mimetype": "text/x-python",
   "name": "python",
   "nbconvert_exporter": "python",
   "pygments_lexer": "ipython3",
   "version": "3.6.5"
  }
 },
 "nbformat": 4,
 "nbformat_minor": 2
}
